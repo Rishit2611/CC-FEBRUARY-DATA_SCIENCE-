{
  "cells": [
    {
      "cell_type": "markdown",
      "metadata": {
        "id": "view-in-github",
        "colab_type": "text"
      },
      "source": [
        "<a href=\"https://colab.research.google.com/github/Rishit2611/CC-FEBRUARY-DATA_SCIENCE-/blob/main/Loan_Prediction.ipynb\" target=\"_parent\"><img src=\"https://colab.research.google.com/assets/colab-badge.svg\" alt=\"Open In Colab\"/></a>"
      ]
    },
    {
      "cell_type": "code",
      "execution_count": null,
      "id": "34f1dd78",
      "metadata": {
        "id": "34f1dd78"
      },
      "outputs": [],
      "source": [
        "import numpy as np\n",
        "import pandas as pd\n",
        "import matplotlib.pyplot as plt\n",
        "%matplotlib inline\n",
        "import seaborn as sns\n",
        "import sklearn"
      ]
    },
    {
      "cell_type": "code",
      "execution_count": null,
      "id": "4d42dc35",
      "metadata": {
        "id": "4d42dc35"
      },
      "outputs": [],
      "source": [
        "loan = pd.read_csv('Loan_Data.csv')"
      ]
    },
    {
      "cell_type": "code",
      "execution_count": null,
      "id": "6e6c891f",
      "metadata": {
        "id": "6e6c891f",
        "outputId": "44ecf4ef-c38c-4e25-eb40-9021ea9713f8"
      },
      "outputs": [
        {
          "data": {
            "text/html": [
              "<div>\n",
              "<style scoped>\n",
              "    .dataframe tbody tr th:only-of-type {\n",
              "        vertical-align: middle;\n",
              "    }\n",
              "\n",
              "    .dataframe tbody tr th {\n",
              "        vertical-align: top;\n",
              "    }\n",
              "\n",
              "    .dataframe thead th {\n",
              "        text-align: right;\n",
              "    }\n",
              "</style>\n",
              "<table border=\"1\" class=\"dataframe\">\n",
              "  <thead>\n",
              "    <tr style=\"text-align: right;\">\n",
              "      <th></th>\n",
              "      <th>Loan_ID</th>\n",
              "      <th>Gender</th>\n",
              "      <th>Married</th>\n",
              "      <th>Dependents</th>\n",
              "      <th>Education</th>\n",
              "      <th>Self_Employed</th>\n",
              "      <th>ApplicantIncome</th>\n",
              "      <th>CoapplicantIncome</th>\n",
              "      <th>LoanAmount</th>\n",
              "      <th>Loan_Amount_Term</th>\n",
              "      <th>Credit_History</th>\n",
              "      <th>Property_Area</th>\n",
              "      <th>Loan_Status</th>\n",
              "    </tr>\n",
              "  </thead>\n",
              "  <tbody>\n",
              "    <tr>\n",
              "      <th>0</th>\n",
              "      <td>LP001002</td>\n",
              "      <td>Male</td>\n",
              "      <td>No</td>\n",
              "      <td>0</td>\n",
              "      <td>Graduate</td>\n",
              "      <td>No</td>\n",
              "      <td>5849</td>\n",
              "      <td>0.0</td>\n",
              "      <td>NaN</td>\n",
              "      <td>360.0</td>\n",
              "      <td>1.0</td>\n",
              "      <td>Urban</td>\n",
              "      <td>Y</td>\n",
              "    </tr>\n",
              "    <tr>\n",
              "      <th>1</th>\n",
              "      <td>LP001003</td>\n",
              "      <td>Male</td>\n",
              "      <td>Yes</td>\n",
              "      <td>1</td>\n",
              "      <td>Graduate</td>\n",
              "      <td>No</td>\n",
              "      <td>4583</td>\n",
              "      <td>1508.0</td>\n",
              "      <td>128.0</td>\n",
              "      <td>360.0</td>\n",
              "      <td>1.0</td>\n",
              "      <td>Rural</td>\n",
              "      <td>N</td>\n",
              "    </tr>\n",
              "    <tr>\n",
              "      <th>2</th>\n",
              "      <td>LP001005</td>\n",
              "      <td>Male</td>\n",
              "      <td>Yes</td>\n",
              "      <td>0</td>\n",
              "      <td>Graduate</td>\n",
              "      <td>Yes</td>\n",
              "      <td>3000</td>\n",
              "      <td>0.0</td>\n",
              "      <td>66.0</td>\n",
              "      <td>360.0</td>\n",
              "      <td>1.0</td>\n",
              "      <td>Urban</td>\n",
              "      <td>Y</td>\n",
              "    </tr>\n",
              "    <tr>\n",
              "      <th>3</th>\n",
              "      <td>LP001006</td>\n",
              "      <td>Male</td>\n",
              "      <td>Yes</td>\n",
              "      <td>0</td>\n",
              "      <td>Not Graduate</td>\n",
              "      <td>No</td>\n",
              "      <td>2583</td>\n",
              "      <td>2358.0</td>\n",
              "      <td>120.0</td>\n",
              "      <td>360.0</td>\n",
              "      <td>1.0</td>\n",
              "      <td>Urban</td>\n",
              "      <td>Y</td>\n",
              "    </tr>\n",
              "    <tr>\n",
              "      <th>4</th>\n",
              "      <td>LP001008</td>\n",
              "      <td>Male</td>\n",
              "      <td>No</td>\n",
              "      <td>0</td>\n",
              "      <td>Graduate</td>\n",
              "      <td>No</td>\n",
              "      <td>6000</td>\n",
              "      <td>0.0</td>\n",
              "      <td>141.0</td>\n",
              "      <td>360.0</td>\n",
              "      <td>1.0</td>\n",
              "      <td>Urban</td>\n",
              "      <td>Y</td>\n",
              "    </tr>\n",
              "  </tbody>\n",
              "</table>\n",
              "</div>"
            ],
            "text/plain": [
              "    Loan_ID Gender Married Dependents     Education Self_Employed  \\\n",
              "0  LP001002   Male      No          0      Graduate            No   \n",
              "1  LP001003   Male     Yes          1      Graduate            No   \n",
              "2  LP001005   Male     Yes          0      Graduate           Yes   \n",
              "3  LP001006   Male     Yes          0  Not Graduate            No   \n",
              "4  LP001008   Male      No          0      Graduate            No   \n",
              "\n",
              "   ApplicantIncome  CoapplicantIncome  LoanAmount  Loan_Amount_Term  \\\n",
              "0             5849                0.0         NaN             360.0   \n",
              "1             4583             1508.0       128.0             360.0   \n",
              "2             3000                0.0        66.0             360.0   \n",
              "3             2583             2358.0       120.0             360.0   \n",
              "4             6000                0.0       141.0             360.0   \n",
              "\n",
              "   Credit_History Property_Area Loan_Status  \n",
              "0             1.0         Urban           Y  \n",
              "1             1.0         Rural           N  \n",
              "2             1.0         Urban           Y  \n",
              "3             1.0         Urban           Y  \n",
              "4             1.0         Urban           Y  "
            ]
          },
          "execution_count": 268,
          "metadata": {},
          "output_type": "execute_result"
        }
      ],
      "source": [
        "loan.head()"
      ]
    },
    {
      "cell_type": "code",
      "execution_count": null,
      "id": "816b4fa4",
      "metadata": {
        "id": "816b4fa4",
        "outputId": "c96263f1-726b-4fa6-bd49-456c421af28b"
      },
      "outputs": [
        {
          "name": "stdout",
          "output_type": "stream",
          "text": [
            "<class 'pandas.core.frame.DataFrame'>\n",
            "RangeIndex: 614 entries, 0 to 613\n",
            "Data columns (total 13 columns):\n",
            " #   Column             Non-Null Count  Dtype  \n",
            "---  ------             --------------  -----  \n",
            " 0   Loan_ID            614 non-null    object \n",
            " 1   Gender             601 non-null    object \n",
            " 2   Married            611 non-null    object \n",
            " 3   Dependents         599 non-null    object \n",
            " 4   Education          614 non-null    object \n",
            " 5   Self_Employed      582 non-null    object \n",
            " 6   ApplicantIncome    614 non-null    int64  \n",
            " 7   CoapplicantIncome  614 non-null    float64\n",
            " 8   LoanAmount         592 non-null    float64\n",
            " 9   Loan_Amount_Term   600 non-null    float64\n",
            " 10  Credit_History     564 non-null    float64\n",
            " 11  Property_Area      614 non-null    object \n",
            " 12  Loan_Status        614 non-null    object \n",
            "dtypes: float64(4), int64(1), object(8)\n",
            "memory usage: 62.5+ KB\n"
          ]
        }
      ],
      "source": [
        "loan.info()"
      ]
    },
    {
      "cell_type": "code",
      "execution_count": null,
      "id": "fd64c334",
      "metadata": {
        "scrolled": true,
        "id": "fd64c334",
        "outputId": "30a17d6e-7fa8-4e54-ce64-c6927510b429"
      },
      "outputs": [
        {
          "data": {
            "text/plain": [
              "Loan_ID               0\n",
              "Gender               13\n",
              "Married               3\n",
              "Dependents           15\n",
              "Education             0\n",
              "Self_Employed        32\n",
              "ApplicantIncome       0\n",
              "CoapplicantIncome     0\n",
              "LoanAmount           22\n",
              "Loan_Amount_Term     14\n",
              "Credit_History       50\n",
              "Property_Area         0\n",
              "Loan_Status           0\n",
              "dtype: int64"
            ]
          },
          "execution_count": 270,
          "metadata": {},
          "output_type": "execute_result"
        }
      ],
      "source": [
        "# checking for null values in all the columns\n",
        "loan.isnull().sum()"
      ]
    },
    {
      "cell_type": "code",
      "execution_count": null,
      "id": "f931de3f",
      "metadata": {
        "id": "f931de3f"
      },
      "outputs": [],
      "source": [
        "# deleting columns which arent useful\n",
        "loan.drop('Loan_ID',axis=1,inplace=True)"
      ]
    },
    {
      "cell_type": "code",
      "execution_count": null,
      "id": "fead802b",
      "metadata": {
        "id": "fead802b",
        "outputId": "798349eb-c79e-4d58-c2ea-7032035adcbe"
      },
      "outputs": [
        {
          "name": "stdout",
          "output_type": "stream",
          "text": [
            "<class 'pandas.core.frame.DataFrame'>\n",
            "RangeIndex: 614 entries, 0 to 613\n",
            "Data columns (total 12 columns):\n",
            " #   Column             Non-Null Count  Dtype  \n",
            "---  ------             --------------  -----  \n",
            " 0   Gender             601 non-null    object \n",
            " 1   Married            611 non-null    object \n",
            " 2   Dependents         599 non-null    object \n",
            " 3   Education          614 non-null    object \n",
            " 4   Self_Employed      582 non-null    object \n",
            " 5   ApplicantIncome    614 non-null    int64  \n",
            " 6   CoapplicantIncome  614 non-null    float64\n",
            " 7   LoanAmount         592 non-null    float64\n",
            " 8   Loan_Amount_Term   600 non-null    float64\n",
            " 9   Credit_History     564 non-null    object \n",
            " 10  Property_Area      614 non-null    object \n",
            " 11  Loan_Status        614 non-null    object \n",
            "dtypes: float64(3), int64(1), object(8)\n",
            "memory usage: 57.7+ KB\n"
          ]
        }
      ],
      "source": [
        "# changing datatype of the credit history column\n",
        "loan['Credit_History']=loan['Credit_History'].astype(object)\n",
        "# checking datatypes again\n",
        "loan.info()"
      ]
    },
    {
      "cell_type": "code",
      "execution_count": null,
      "id": "0fd0a671",
      "metadata": {
        "id": "0fd0a671",
        "outputId": "9cbae16c-5ff3-4ed8-b6e6-0015478477a7"
      },
      "outputs": [
        {
          "data": {
            "text/plain": [
              "Y    422\n",
              "N    192\n",
              "Name: Loan_Status, dtype: int64"
            ]
          },
          "execution_count": 273,
          "metadata": {},
          "output_type": "execute_result"
        }
      ],
      "source": [
        "loan['Loan_Status'].value_counts() #checking the status of loans"
      ]
    },
    {
      "cell_type": "code",
      "execution_count": null,
      "id": "21792246",
      "metadata": {
        "id": "21792246",
        "outputId": "3cc4a4de-d318-4ce3-b29c-aea5def4a26a"
      },
      "outputs": [
        {
          "data": {
            "text/plain": [
              "<AxesSubplot:>"
            ]
          },
          "execution_count": 274,
          "metadata": {},
          "output_type": "execute_result"
        },
        {
          "data": {
            "image/png": "[encoded data removed]",
            "text/plain": [
              "<Figure size 432x288 with 1 Axes>"
            ]
          },
          "metadata": {
            "needs_background": "light"
          },
          "output_type": "display_data"
        }
      ],
      "source": [
        "loan['Loan_Status'].value_counts().plot(kind='bar') #plotting the distribution on a bar graph"
      ]
    },
    {
      "cell_type": "code",
      "execution_count": null,
      "id": "b892885b",
      "metadata": {
        "id": "b892885b",
        "outputId": "c213e68e-8780-4bf1-8a68-9dd0d291be70"
      },
      "outputs": [
        {
          "data": {
            "text/plain": [
              "array([1.0, 0.0, nan], dtype=object)"
            ]
          },
          "execution_count": 275,
          "metadata": {},
          "output_type": "execute_result"
        }
      ],
      "source": [
        "# checking the unique values in credit history column\n",
        "loan['Credit_History'].unique()"
      ]
    },
    {
      "cell_type": "code",
      "execution_count": null,
      "id": "1a431256",
      "metadata": {
        "id": "1a431256",
        "outputId": "a2ccf409-3b7b-4ed5-b216-6f6bc83120d8"
      },
      "outputs": [
        {
          "data": {
            "text/plain": [
              "0"
            ]
          },
          "execution_count": 276,
          "metadata": {},
          "output_type": "execute_result"
        }
      ],
      "source": [
        "# checking null values in loan amount column\n",
        "loan[loan['LoanAmount'].isnull()]\n",
        "# checking index of the rows with null values\n",
        "drop_index=loan[loan['LoanAmount'].isnull()].index\n",
        "# dropping null values in the loan amount column\n",
        "loan.drop(drop_index,axis=0,inplace=True)\n",
        "# checking for null values in loan amount column\n",
        "loan['LoanAmount'].isnull().sum()"
      ]
    },
    {
      "cell_type": "code",
      "execution_count": null,
      "id": "7fb90bd7",
      "metadata": {
        "id": "7fb90bd7",
        "outputId": "2ea71ba2-d436-405c-b694-b279ca804ab0"
      },
      "outputs": [
        {
          "data": {
            "text/plain": [
              "0"
            ]
          },
          "execution_count": 277,
          "metadata": {},
          "output_type": "execute_result"
        }
      ],
      "source": [
        "# checking null values in Credit_History column\n",
        "loan[loan['Credit_History'].isnull()]\n",
        "# checking index of the rows with null values\n",
        "drop_index=loan[loan['Credit_History'].isnull()].index\n",
        "# dropping null values in the Credit_History column\n",
        "loan.drop(drop_index,axis=0,inplace=True)\n",
        "# checking for null values in Credit_History column\n",
        "loan['Credit_History'].isnull().sum()"
      ]
    },
    {
      "cell_type": "code",
      "execution_count": null,
      "id": "b268e095",
      "metadata": {
        "id": "b268e095",
        "outputId": "93606fb0-7a0e-471f-f244-f5e939afb916"
      },
      "outputs": [
        {
          "data": {
            "text/plain": [
              "count    529.000000\n",
              "mean     342.351607\n",
              "std       64.861662\n",
              "min       36.000000\n",
              "25%      360.000000\n",
              "50%      360.000000\n",
              "75%      360.000000\n",
              "max      480.000000\n",
              "Name: Loan_Amount_Term, dtype: float64"
            ]
          },
          "execution_count": 278,
          "metadata": {},
          "output_type": "execute_result"
        }
      ],
      "source": [
        "# checking for values in loan amount term column\n",
        "loan['Loan_Amount_Term'].unique()\n",
        "# looking for null values\n",
        "loan[loan['Loan_Amount_Term'].isnull()]\n",
        "loan['Loan_Amount_Term'].describe()\n"
      ]
    },
    {
      "cell_type": "code",
      "execution_count": null,
      "id": "3c6e405e",
      "metadata": {
        "id": "3c6e405e",
        "outputId": "60e795b3-0cb9-44c5-b402-3a27abf3fad7"
      },
      "outputs": [
        {
          "data": {
            "text/plain": [
              "0"
            ]
          },
          "execution_count": 279,
          "metadata": {},
          "output_type": "execute_result"
        },
        {
          "data": {
            "image/png": "[encoded data removed]",
            "text/plain": [
              "<Figure size 432x288 with 1 Axes>"
            ]
          },
          "metadata": {
            "needs_background": "light"
          },
          "output_type": "display_data"
        }
      ],
      "source": [
        "# checking distribution\n",
        "sns.histplot(x=loan['Loan_Amount_Term'], data= loan)\n",
        "# replacing null values with the mean duration\n",
        "loan['Loan_Amount_Term'].fillna(value=loan['Loan_Amount_Term'].mean(),inplace=True)\n",
        "# checking for null values\n",
        "loan['Loan_Amount_Term'].isnull().sum()"
      ]
    },
    {
      "cell_type": "code",
      "execution_count": null,
      "id": "657bae1f",
      "metadata": {
        "id": "657bae1f",
        "outputId": "09c0b806-f01a-45ce-c7a0-2be45dbb6796"
      },
      "outputs": [
        {
          "data": {
            "text/plain": [
              "Gender               0\n",
              "Married              0\n",
              "Dependents           0\n",
              "Education            0\n",
              "Self_Employed        0\n",
              "ApplicantIncome      0\n",
              "CoapplicantIncome    0\n",
              "LoanAmount           0\n",
              "Loan_Amount_Term     0\n",
              "Credit_History       0\n",
              "Property_Area        0\n",
              "Loan_Status          0\n",
              "dtype: int64"
            ]
          },
          "execution_count": 280,
          "metadata": {},
          "output_type": "execute_result"
        }
      ],
      "source": [
        "# deleting the null values in other columns as it contains only binary classes\n",
        "loan.dropna(axis=0,inplace=True)\n",
        "# checking null values for entire dataframe\n",
        "loan.isnull().sum()"
      ]
    },
    {
      "cell_type": "code",
      "execution_count": null,
      "id": "8fe2bed6",
      "metadata": {
        "id": "8fe2bed6",
        "outputId": "908eaee6-1f66-418e-8b8f-9010912f1642"
      },
      "outputs": [
        {
          "data": {
            "text/plain": [
              "['Gender',\n",
              " 'Married',\n",
              " 'Dependents',\n",
              " 'Education',\n",
              " 'Self_Employed',\n",
              " 'Credit_History',\n",
              " 'Property_Area',\n",
              " 'Loan_Status']"
            ]
          },
          "execution_count": 281,
          "metadata": {},
          "output_type": "execute_result"
        }
      ],
      "source": [
        "# selecting all the categorical columns\n",
        "categorical_columns=loan.select_dtypes(include=['object']).columns.tolist()\n",
        "categorical_columns"
      ]
    },
    {
      "cell_type": "code",
      "execution_count": null,
      "id": "42cc5c3c",
      "metadata": {
        "id": "42cc5c3c",
        "outputId": "222f7d24-dc67-4a95-c2aa-70e9c8775029"
      },
      "outputs": [
        {
          "data": {
            "image/png": "[encoded data removed]",
            "text/plain": [
              "<Figure size 576x432 with 1 Axes>"
            ]
          },
          "metadata": {
            "needs_background": "light"
          },
          "output_type": "display_data"
        },
        {
          "data": {
            "image/png": "[encoded data removed]",
            "text/plain": [
              "<Figure size 576x432 with 1 Axes>"
            ]
          },
          "metadata": {
            "needs_background": "light"
          },
          "output_type": "display_data"
        },
        {
          "data": {
            "image/png": "[encoded data removed]",
            "text/plain": [
              "<Figure size 576x432 with 1 Axes>"
            ]
          },
          "metadata": {
            "needs_background": "light"
          },
          "output_type": "display_data"
        },
        {
          "data": {
            "image/png": "[encoded data removed]",
            "text/plain": [
              "<Figure size 576x432 with 1 Axes>"
            ]
          },
          "metadata": {
            "needs_background": "light"
          },
          "output_type": "display_data"
        },
        {
          "data": {
            "image/png": "[encoded data removed]",
            "text/plain": [
              "<Figure size 576x432 with 1 Axes>"
            ]
          },
          "metadata": {
            "needs_background": "light"
          },
          "output_type": "display_data"
        },
        {
          "data": {
            "image/png": "[encoded data removed]",
            "text/plain": [
              "<Figure size 576x432 with 1 Axes>"
            ]
          },
          "metadata": {
            "needs_background": "light"
          },
          "output_type": "display_data"
        },
        {
          "data": {
            "image/png": "[encoded data removed]",
            "text/plain": [
              "<Figure size 576x432 with 1 Axes>"
            ]
          },
          "metadata": {
            "needs_background": "light"
          },
          "output_type": "display_data"
        },
        {
          "data": {
            "image/png": "[encoded data removed]",
            "text/plain": [
              "<Figure size 576x432 with 1 Axes>"
            ]
          },
          "metadata": {
            "needs_background": "light"
          },
          "output_type": "display_data"
        }
      ],
      "source": [
        "# plotting the categorical features and checking loan status \n",
        "for i in categorical_columns:\n",
        "    fig = plt.figure(figsize=(8,6))\n",
        "    sns.countplot(x=loan[i],hue=loan['Loan_Status'])\n",
        "    plt.legend()\n",
        "    plt.tight_layout()"
      ]
    },
    {
      "cell_type": "code",
      "execution_count": null,
      "id": "fd136181",
      "metadata": {
        "id": "fd136181"
      },
      "outputs": [],
      "source": [
        "# converting binary features in numerical labels for prediction\n",
        "loan['Loan_Status']=np.where(loan['Loan_Status']=='N',0,1)\n",
        "loan['Gender']=np.where(loan['Gender']=='Male',1,0)\n",
        "loan['Married']=np.where(loan['Married']=='No',0,1)\n",
        "loan['Education']=np.where(loan['Education']=='Not Graduate',0,1)\n",
        "loan['Self_Employed']=np.where(loan['Self_Employed']=='No',0,1)"
      ]
    },
    {
      "cell_type": "code",
      "execution_count": null,
      "id": "97ccec04",
      "metadata": {
        "id": "97ccec04",
        "outputId": "6bb0037e-4401-4e83-fc70-2b550e4d3b00"
      },
      "outputs": [
        {
          "name": "stderr",
          "output_type": "stream",
          "text": [
            "C:\\Users\\gaya\\anaconda3\\lib\\site-packages\\pandas\\core\\algorithms.py:798: FutureWarning: In a future version, the Index constructor will not infer numeric dtypes when passed object-dtype sequences (matching Series behavior)\n",
            "  uniques = Index(uniques)\n"
          ]
        },
        {
          "data": {
            "text/html": [
              "<div>\n",
              "<style scoped>\n",
              "    .dataframe tbody tr th:only-of-type {\n",
              "        vertical-align: middle;\n",
              "    }\n",
              "\n",
              "    .dataframe tbody tr th {\n",
              "        vertical-align: top;\n",
              "    }\n",
              "\n",
              "    .dataframe thead th {\n",
              "        text-align: right;\n",
              "    }\n",
              "</style>\n",
              "<table border=\"1\" class=\"dataframe\">\n",
              "  <thead>\n",
              "    <tr style=\"text-align: right;\">\n",
              "      <th></th>\n",
              "      <th>Gender</th>\n",
              "      <th>Married</th>\n",
              "      <th>Education</th>\n",
              "      <th>Self_Employed</th>\n",
              "      <th>ApplicantIncome</th>\n",
              "      <th>CoapplicantIncome</th>\n",
              "      <th>LoanAmount</th>\n",
              "      <th>Loan_Amount_Term</th>\n",
              "      <th>Loan_Status</th>\n",
              "      <th>Dependents_0</th>\n",
              "      <th>Dependents_1</th>\n",
              "      <th>Dependents_2</th>\n",
              "      <th>Dependents_3+</th>\n",
              "      <th>Credit_History_0.0</th>\n",
              "      <th>Credit_History_1.0</th>\n",
              "      <th>Property_Area_Rural</th>\n",
              "      <th>Property_Area_Semiurban</th>\n",
              "      <th>Property_Area_Urban</th>\n",
              "    </tr>\n",
              "  </thead>\n",
              "  <tbody>\n",
              "    <tr>\n",
              "      <th>1</th>\n",
              "      <td>1</td>\n",
              "      <td>1</td>\n",
              "      <td>1</td>\n",
              "      <td>0</td>\n",
              "      <td>4583</td>\n",
              "      <td>1508.0</td>\n",
              "      <td>128.0</td>\n",
              "      <td>360.0</td>\n",
              "      <td>0</td>\n",
              "      <td>0</td>\n",
              "      <td>1</td>\n",
              "      <td>0</td>\n",
              "      <td>0</td>\n",
              "      <td>0</td>\n",
              "      <td>1</td>\n",
              "      <td>1</td>\n",
              "      <td>0</td>\n",
              "      <td>0</td>\n",
              "    </tr>\n",
              "    <tr>\n",
              "      <th>2</th>\n",
              "      <td>1</td>\n",
              "      <td>1</td>\n",
              "      <td>1</td>\n",
              "      <td>1</td>\n",
              "      <td>3000</td>\n",
              "      <td>0.0</td>\n",
              "      <td>66.0</td>\n",
              "      <td>360.0</td>\n",
              "      <td>1</td>\n",
              "      <td>1</td>\n",
              "      <td>0</td>\n",
              "      <td>0</td>\n",
              "      <td>0</td>\n",
              "      <td>0</td>\n",
              "      <td>1</td>\n",
              "      <td>0</td>\n",
              "      <td>0</td>\n",
              "      <td>1</td>\n",
              "    </tr>\n",
              "    <tr>\n",
              "      <th>3</th>\n",
              "      <td>1</td>\n",
              "      <td>1</td>\n",
              "      <td>0</td>\n",
              "      <td>0</td>\n",
              "      <td>2583</td>\n",
              "      <td>2358.0</td>\n",
              "      <td>120.0</td>\n",
              "      <td>360.0</td>\n",
              "      <td>1</td>\n",
              "      <td>1</td>\n",
              "      <td>0</td>\n",
              "      <td>0</td>\n",
              "      <td>0</td>\n",
              "      <td>0</td>\n",
              "      <td>1</td>\n",
              "      <td>0</td>\n",
              "      <td>0</td>\n",
              "      <td>1</td>\n",
              "    </tr>\n",
              "    <tr>\n",
              "      <th>4</th>\n",
              "      <td>1</td>\n",
              "      <td>0</td>\n",
              "      <td>1</td>\n",
              "      <td>0</td>\n",
              "      <td>6000</td>\n",
              "      <td>0.0</td>\n",
              "      <td>141.0</td>\n",
              "      <td>360.0</td>\n",
              "      <td>1</td>\n",
              "      <td>1</td>\n",
              "      <td>0</td>\n",
              "      <td>0</td>\n",
              "      <td>0</td>\n",
              "      <td>0</td>\n",
              "      <td>1</td>\n",
              "      <td>0</td>\n",
              "      <td>0</td>\n",
              "      <td>1</td>\n",
              "    </tr>\n",
              "    <tr>\n",
              "      <th>5</th>\n",
              "      <td>1</td>\n",
              "      <td>1</td>\n",
              "      <td>1</td>\n",
              "      <td>1</td>\n",
              "      <td>5417</td>\n",
              "      <td>4196.0</td>\n",
              "      <td>267.0</td>\n",
              "      <td>360.0</td>\n",
              "      <td>1</td>\n",
              "      <td>0</td>\n",
              "      <td>0</td>\n",
              "      <td>1</td>\n",
              "      <td>0</td>\n",
              "      <td>0</td>\n",
              "      <td>1</td>\n",
              "      <td>0</td>\n",
              "      <td>0</td>\n",
              "      <td>1</td>\n",
              "    </tr>\n",
              "    <tr>\n",
              "      <th>...</th>\n",
              "      <td>...</td>\n",
              "      <td>...</td>\n",
              "      <td>...</td>\n",
              "      <td>...</td>\n",
              "      <td>...</td>\n",
              "      <td>...</td>\n",
              "      <td>...</td>\n",
              "      <td>...</td>\n",
              "      <td>...</td>\n",
              "      <td>...</td>\n",
              "      <td>...</td>\n",
              "      <td>...</td>\n",
              "      <td>...</td>\n",
              "      <td>...</td>\n",
              "      <td>...</td>\n",
              "      <td>...</td>\n",
              "      <td>...</td>\n",
              "      <td>...</td>\n",
              "    </tr>\n",
              "    <tr>\n",
              "      <th>609</th>\n",
              "      <td>0</td>\n",
              "      <td>0</td>\n",
              "      <td>1</td>\n",
              "      <td>0</td>\n",
              "      <td>2900</td>\n",
              "      <td>0.0</td>\n",
              "      <td>71.0</td>\n",
              "      <td>360.0</td>\n",
              "      <td>1</td>\n",
              "      <td>1</td>\n",
              "      <td>0</td>\n",
              "      <td>0</td>\n",
              "      <td>0</td>\n",
              "      <td>0</td>\n",
              "      <td>1</td>\n",
              "      <td>1</td>\n",
              "      <td>0</td>\n",
              "      <td>0</td>\n",
              "    </tr>\n",
              "    <tr>\n",
              "      <th>610</th>\n",
              "      <td>1</td>\n",
              "      <td>1</td>\n",
              "      <td>1</td>\n",
              "      <td>0</td>\n",
              "      <td>4106</td>\n",
              "      <td>0.0</td>\n",
              "      <td>40.0</td>\n",
              "      <td>180.0</td>\n",
              "      <td>1</td>\n",
              "      <td>0</td>\n",
              "      <td>0</td>\n",
              "      <td>0</td>\n",
              "      <td>1</td>\n",
              "      <td>0</td>\n",
              "      <td>1</td>\n",
              "      <td>1</td>\n",
              "      <td>0</td>\n",
              "      <td>0</td>\n",
              "    </tr>\n",
              "    <tr>\n",
              "      <th>611</th>\n",
              "      <td>1</td>\n",
              "      <td>1</td>\n",
              "      <td>1</td>\n",
              "      <td>0</td>\n",
              "      <td>8072</td>\n",
              "      <td>240.0</td>\n",
              "      <td>253.0</td>\n",
              "      <td>360.0</td>\n",
              "      <td>1</td>\n",
              "      <td>0</td>\n",
              "      <td>1</td>\n",
              "      <td>0</td>\n",
              "      <td>0</td>\n",
              "      <td>0</td>\n",
              "      <td>1</td>\n",
              "      <td>0</td>\n",
              "      <td>0</td>\n",
              "      <td>1</td>\n",
              "    </tr>\n",
              "    <tr>\n",
              "      <th>612</th>\n",
              "      <td>1</td>\n",
              "      <td>1</td>\n",
              "      <td>1</td>\n",
              "      <td>0</td>\n",
              "      <td>7583</td>\n",
              "      <td>0.0</td>\n",
              "      <td>187.0</td>\n",
              "      <td>360.0</td>\n",
              "      <td>1</td>\n",
              "      <td>0</td>\n",
              "      <td>0</td>\n",
              "      <td>1</td>\n",
              "      <td>0</td>\n",
              "      <td>0</td>\n",
              "      <td>1</td>\n",
              "      <td>0</td>\n",
              "      <td>0</td>\n",
              "      <td>1</td>\n",
              "    </tr>\n",
              "    <tr>\n",
              "      <th>613</th>\n",
              "      <td>0</td>\n",
              "      <td>0</td>\n",
              "      <td>1</td>\n",
              "      <td>1</td>\n",
              "      <td>4583</td>\n",
              "      <td>0.0</td>\n",
              "      <td>133.0</td>\n",
              "      <td>360.0</td>\n",
              "      <td>0</td>\n",
              "      <td>1</td>\n",
              "      <td>0</td>\n",
              "      <td>0</td>\n",
              "      <td>0</td>\n",
              "      <td>1</td>\n",
              "      <td>0</td>\n",
              "      <td>0</td>\n",
              "      <td>1</td>\n",
              "      <td>0</td>\n",
              "    </tr>\n",
              "  </tbody>\n",
              "</table>\n",
              "<p>492 rows × 18 columns</p>\n",
              "</div>"
            ],
            "text/plain": [
              "     Gender  Married  Education  Self_Employed  ApplicantIncome  \\\n",
              "1         1        1          1              0             4583   \n",
              "2         1        1          1              1             3000   \n",
              "3         1        1          0              0             2583   \n",
              "4         1        0          1              0             6000   \n",
              "5         1        1          1              1             5417   \n",
              "..      ...      ...        ...            ...              ...   \n",
              "609       0        0          1              0             2900   \n",
              "610       1        1          1              0             4106   \n",
              "611       1        1          1              0             8072   \n",
              "612       1        1          1              0             7583   \n",
              "613       0        0          1              1             4583   \n",
              "\n",
              "     CoapplicantIncome  LoanAmount  Loan_Amount_Term  Loan_Status  \\\n",
              "1               1508.0       128.0             360.0            0   \n",
              "2                  0.0        66.0             360.0            1   \n",
              "3               2358.0       120.0             360.0            1   \n",
              "4                  0.0       141.0             360.0            1   \n",
              "5               4196.0       267.0             360.0            1   \n",
              "..                 ...         ...               ...          ...   \n",
              "609                0.0        71.0             360.0            1   \n",
              "610                0.0        40.0             180.0            1   \n",
              "611              240.0       253.0             360.0            1   \n",
              "612                0.0       187.0             360.0            1   \n",
              "613                0.0       133.0             360.0            0   \n",
              "\n",
              "     Dependents_0  Dependents_1  Dependents_2  Dependents_3+  \\\n",
              "1               0             1             0              0   \n",
              "2               1             0             0              0   \n",
              "3               1             0             0              0   \n",
              "4               1             0             0              0   \n",
              "5               0             0             1              0   \n",
              "..            ...           ...           ...            ...   \n",
              "609             1             0             0              0   \n",
              "610             0             0             0              1   \n",
              "611             0             1             0              0   \n",
              "612             0             0             1              0   \n",
              "613             1             0             0              0   \n",
              "\n",
              "     Credit_History_0.0  Credit_History_1.0  Property_Area_Rural  \\\n",
              "1                     0                   1                    1   \n",
              "2                     0                   1                    0   \n",
              "3                     0                   1                    0   \n",
              "4                     0                   1                    0   \n",
              "5                     0                   1                    0   \n",
              "..                  ...                 ...                  ...   \n",
              "609                   0                   1                    1   \n",
              "610                   0                   1                    1   \n",
              "611                   0                   1                    0   \n",
              "612                   0                   1                    0   \n",
              "613                   1                   0                    0   \n",
              "\n",
              "     Property_Area_Semiurban  Property_Area_Urban  \n",
              "1                          0                    0  \n",
              "2                          0                    1  \n",
              "3                          0                    1  \n",
              "4                          0                    1  \n",
              "5                          0                    1  \n",
              "..                       ...                  ...  \n",
              "609                        0                    0  \n",
              "610                        0                    0  \n",
              "611                        0                    1  \n",
              "612                        0                    1  \n",
              "613                        1                    0  \n",
              "\n",
              "[492 rows x 18 columns]"
            ]
          },
          "execution_count": 284,
          "metadata": {},
          "output_type": "execute_result"
        }
      ],
      "source": [
        "# generating labels for each property type\n",
        "loan = pd.get_dummies(loan,drop_first=False)\n",
        "loan"
      ]
    },
    {
      "cell_type": "code",
      "execution_count": null,
      "id": "2e244efc",
      "metadata": {
        "id": "2e244efc"
      },
      "outputs": [],
      "source": [
        "from sklearn.linear_model import LogisticRegression\n",
        "from sklearn.model_selection import train_test_split\n",
        "from sklearn.preprocessing import MinMaxScaler"
      ]
    },
    {
      "cell_type": "code",
      "execution_count": null,
      "id": "d14ce46b",
      "metadata": {
        "id": "d14ce46b"
      },
      "outputs": [],
      "source": [
        "# selecting dependent feature\n",
        "y = loan['Loan_Status']\n",
        "#selecting independent features\n",
        "X = loan.drop('Loan_Status',axis=1)"
      ]
    },
    {
      "cell_type": "code",
      "execution_count": null,
      "id": "be2107da",
      "metadata": {
        "id": "be2107da",
        "outputId": "eef097a7-9db2-4730-c769-25fb0d49f0ab"
      },
      "outputs": [
        {
          "data": {
            "text/html": [
              "<div>\n",
              "<style scoped>\n",
              "    .dataframe tbody tr th:only-of-type {\n",
              "        vertical-align: middle;\n",
              "    }\n",
              "\n",
              "    .dataframe tbody tr th {\n",
              "        vertical-align: top;\n",
              "    }\n",
              "\n",
              "    .dataframe thead th {\n",
              "        text-align: right;\n",
              "    }\n",
              "</style>\n",
              "<table border=\"1\" class=\"dataframe\">\n",
              "  <thead>\n",
              "    <tr style=\"text-align: right;\">\n",
              "      <th></th>\n",
              "      <th>Gender</th>\n",
              "      <th>Married</th>\n",
              "      <th>Education</th>\n",
              "      <th>Self_Employed</th>\n",
              "      <th>ApplicantIncome</th>\n",
              "      <th>CoapplicantIncome</th>\n",
              "      <th>LoanAmount</th>\n",
              "      <th>Loan_Amount_Term</th>\n",
              "      <th>Dependents_0</th>\n",
              "      <th>Dependents_1</th>\n",
              "      <th>Dependents_2</th>\n",
              "      <th>Dependents_3+</th>\n",
              "      <th>Credit_History_0.0</th>\n",
              "      <th>Credit_History_1.0</th>\n",
              "      <th>Property_Area_Rural</th>\n",
              "      <th>Property_Area_Semiurban</th>\n",
              "      <th>Property_Area_Urban</th>\n",
              "    </tr>\n",
              "  </thead>\n",
              "  <tbody>\n",
              "    <tr>\n",
              "      <th>1</th>\n",
              "      <td>1</td>\n",
              "      <td>1</td>\n",
              "      <td>1</td>\n",
              "      <td>0</td>\n",
              "      <td>4583</td>\n",
              "      <td>1508.0</td>\n",
              "      <td>128.0</td>\n",
              "      <td>360.0</td>\n",
              "      <td>0</td>\n",
              "      <td>1</td>\n",
              "      <td>0</td>\n",
              "      <td>0</td>\n",
              "      <td>0</td>\n",
              "      <td>1</td>\n",
              "      <td>1</td>\n",
              "      <td>0</td>\n",
              "      <td>0</td>\n",
              "    </tr>\n",
              "    <tr>\n",
              "      <th>2</th>\n",
              "      <td>1</td>\n",
              "      <td>1</td>\n",
              "      <td>1</td>\n",
              "      <td>1</td>\n",
              "      <td>3000</td>\n",
              "      <td>0.0</td>\n",
              "      <td>66.0</td>\n",
              "      <td>360.0</td>\n",
              "      <td>1</td>\n",
              "      <td>0</td>\n",
              "      <td>0</td>\n",
              "      <td>0</td>\n",
              "      <td>0</td>\n",
              "      <td>1</td>\n",
              "      <td>0</td>\n",
              "      <td>0</td>\n",
              "      <td>1</td>\n",
              "    </tr>\n",
              "    <tr>\n",
              "      <th>3</th>\n",
              "      <td>1</td>\n",
              "      <td>1</td>\n",
              "      <td>0</td>\n",
              "      <td>0</td>\n",
              "      <td>2583</td>\n",
              "      <td>2358.0</td>\n",
              "      <td>120.0</td>\n",
              "      <td>360.0</td>\n",
              "      <td>1</td>\n",
              "      <td>0</td>\n",
              "      <td>0</td>\n",
              "      <td>0</td>\n",
              "      <td>0</td>\n",
              "      <td>1</td>\n",
              "      <td>0</td>\n",
              "      <td>0</td>\n",
              "      <td>1</td>\n",
              "    </tr>\n",
              "    <tr>\n",
              "      <th>4</th>\n",
              "      <td>1</td>\n",
              "      <td>0</td>\n",
              "      <td>1</td>\n",
              "      <td>0</td>\n",
              "      <td>6000</td>\n",
              "      <td>0.0</td>\n",
              "      <td>141.0</td>\n",
              "      <td>360.0</td>\n",
              "      <td>1</td>\n",
              "      <td>0</td>\n",
              "      <td>0</td>\n",
              "      <td>0</td>\n",
              "      <td>0</td>\n",
              "      <td>1</td>\n",
              "      <td>0</td>\n",
              "      <td>0</td>\n",
              "      <td>1</td>\n",
              "    </tr>\n",
              "    <tr>\n",
              "      <th>5</th>\n",
              "      <td>1</td>\n",
              "      <td>1</td>\n",
              "      <td>1</td>\n",
              "      <td>1</td>\n",
              "      <td>5417</td>\n",
              "      <td>4196.0</td>\n",
              "      <td>267.0</td>\n",
              "      <td>360.0</td>\n",
              "      <td>0</td>\n",
              "      <td>0</td>\n",
              "      <td>1</td>\n",
              "      <td>0</td>\n",
              "      <td>0</td>\n",
              "      <td>1</td>\n",
              "      <td>0</td>\n",
              "      <td>0</td>\n",
              "      <td>1</td>\n",
              "    </tr>\n",
              "    <tr>\n",
              "      <th>...</th>\n",
              "      <td>...</td>\n",
              "      <td>...</td>\n",
              "      <td>...</td>\n",
              "      <td>...</td>\n",
              "      <td>...</td>\n",
              "      <td>...</td>\n",
              "      <td>...</td>\n",
              "      <td>...</td>\n",
              "      <td>...</td>\n",
              "      <td>...</td>\n",
              "      <td>...</td>\n",
              "      <td>...</td>\n",
              "      <td>...</td>\n",
              "      <td>...</td>\n",
              "      <td>...</td>\n",
              "      <td>...</td>\n",
              "      <td>...</td>\n",
              "    </tr>\n",
              "    <tr>\n",
              "      <th>609</th>\n",
              "      <td>0</td>\n",
              "      <td>0</td>\n",
              "      <td>1</td>\n",
              "      <td>0</td>\n",
              "      <td>2900</td>\n",
              "      <td>0.0</td>\n",
              "      <td>71.0</td>\n",
              "      <td>360.0</td>\n",
              "      <td>1</td>\n",
              "      <td>0</td>\n",
              "      <td>0</td>\n",
              "      <td>0</td>\n",
              "      <td>0</td>\n",
              "      <td>1</td>\n",
              "      <td>1</td>\n",
              "      <td>0</td>\n",
              "      <td>0</td>\n",
              "    </tr>\n",
              "    <tr>\n",
              "      <th>610</th>\n",
              "      <td>1</td>\n",
              "      <td>1</td>\n",
              "      <td>1</td>\n",
              "      <td>0</td>\n",
              "      <td>4106</td>\n",
              "      <td>0.0</td>\n",
              "      <td>40.0</td>\n",
              "      <td>180.0</td>\n",
              "      <td>0</td>\n",
              "      <td>0</td>\n",
              "      <td>0</td>\n",
              "      <td>1</td>\n",
              "      <td>0</td>\n",
              "      <td>1</td>\n",
              "      <td>1</td>\n",
              "      <td>0</td>\n",
              "      <td>0</td>\n",
              "    </tr>\n",
              "    <tr>\n",
              "      <th>611</th>\n",
              "      <td>1</td>\n",
              "      <td>1</td>\n",
              "      <td>1</td>\n",
              "      <td>0</td>\n",
              "      <td>8072</td>\n",
              "      <td>240.0</td>\n",
              "      <td>253.0</td>\n",
              "      <td>360.0</td>\n",
              "      <td>0</td>\n",
              "      <td>1</td>\n",
              "      <td>0</td>\n",
              "      <td>0</td>\n",
              "      <td>0</td>\n",
              "      <td>1</td>\n",
              "      <td>0</td>\n",
              "      <td>0</td>\n",
              "      <td>1</td>\n",
              "    </tr>\n",
              "    <tr>\n",
              "      <th>612</th>\n",
              "      <td>1</td>\n",
              "      <td>1</td>\n",
              "      <td>1</td>\n",
              "      <td>0</td>\n",
              "      <td>7583</td>\n",
              "      <td>0.0</td>\n",
              "      <td>187.0</td>\n",
              "      <td>360.0</td>\n",
              "      <td>0</td>\n",
              "      <td>0</td>\n",
              "      <td>1</td>\n",
              "      <td>0</td>\n",
              "      <td>0</td>\n",
              "      <td>1</td>\n",
              "      <td>0</td>\n",
              "      <td>0</td>\n",
              "      <td>1</td>\n",
              "    </tr>\n",
              "    <tr>\n",
              "      <th>613</th>\n",
              "      <td>0</td>\n",
              "      <td>0</td>\n",
              "      <td>1</td>\n",
              "      <td>1</td>\n",
              "      <td>4583</td>\n",
              "      <td>0.0</td>\n",
              "      <td>133.0</td>\n",
              "      <td>360.0</td>\n",
              "      <td>1</td>\n",
              "      <td>0</td>\n",
              "      <td>0</td>\n",
              "      <td>0</td>\n",
              "      <td>1</td>\n",
              "      <td>0</td>\n",
              "      <td>0</td>\n",
              "      <td>1</td>\n",
              "      <td>0</td>\n",
              "    </tr>\n",
              "  </tbody>\n",
              "</table>\n",
              "<p>492 rows × 17 columns</p>\n",
              "</div>"
            ],
            "text/plain": [
              "     Gender  Married  Education  Self_Employed  ApplicantIncome  \\\n",
              "1         1        1          1              0             4583   \n",
              "2         1        1          1              1             3000   \n",
              "3         1        1          0              0             2583   \n",
              "4         1        0          1              0             6000   \n",
              "5         1        1          1              1             5417   \n",
              "..      ...      ...        ...            ...              ...   \n",
              "609       0        0          1              0             2900   \n",
              "610       1        1          1              0             4106   \n",
              "611       1        1          1              0             8072   \n",
              "612       1        1          1              0             7583   \n",
              "613       0        0          1              1             4583   \n",
              "\n",
              "     CoapplicantIncome  LoanAmount  Loan_Amount_Term  Dependents_0  \\\n",
              "1               1508.0       128.0             360.0             0   \n",
              "2                  0.0        66.0             360.0             1   \n",
              "3               2358.0       120.0             360.0             1   \n",
              "4                  0.0       141.0             360.0             1   \n",
              "5               4196.0       267.0             360.0             0   \n",
              "..                 ...         ...               ...           ...   \n",
              "609                0.0        71.0             360.0             1   \n",
              "610                0.0        40.0             180.0             0   \n",
              "611              240.0       253.0             360.0             0   \n",
              "612                0.0       187.0             360.0             0   \n",
              "613                0.0       133.0             360.0             1   \n",
              "\n",
              "     Dependents_1  Dependents_2  Dependents_3+  Credit_History_0.0  \\\n",
              "1               1             0              0                   0   \n",
              "2               0             0              0                   0   \n",
              "3               0             0              0                   0   \n",
              "4               0             0              0                   0   \n",
              "5               0             1              0                   0   \n",
              "..            ...           ...            ...                 ...   \n",
              "609             0             0              0                   0   \n",
              "610             0             0              1                   0   \n",
              "611             1             0              0                   0   \n",
              "612             0             1              0                   0   \n",
              "613             0             0              0                   1   \n",
              "\n",
              "     Credit_History_1.0  Property_Area_Rural  Property_Area_Semiurban  \\\n",
              "1                     1                    1                        0   \n",
              "2                     1                    0                        0   \n",
              "3                     1                    0                        0   \n",
              "4                     1                    0                        0   \n",
              "5                     1                    0                        0   \n",
              "..                  ...                  ...                      ...   \n",
              "609                   1                    1                        0   \n",
              "610                   1                    1                        0   \n",
              "611                   1                    0                        0   \n",
              "612                   1                    0                        0   \n",
              "613                   0                    0                        1   \n",
              "\n",
              "     Property_Area_Urban  \n",
              "1                      0  \n",
              "2                      1  \n",
              "3                      1  \n",
              "4                      1  \n",
              "5                      1  \n",
              "..                   ...  \n",
              "609                    0  \n",
              "610                    0  \n",
              "611                    1  \n",
              "612                    1  \n",
              "613                    0  \n",
              "\n",
              "[492 rows x 17 columns]"
            ]
          },
          "execution_count": 287,
          "metadata": {},
          "output_type": "execute_result"
        }
      ],
      "source": [
        "X"
      ]
    },
    {
      "cell_type": "code",
      "execution_count": null,
      "id": "6daa50dc",
      "metadata": {
        "id": "6daa50dc"
      },
      "outputs": [],
      "source": [
        "# splitting the dataset\n",
        "X_train, X_test, y_train, y_test = train_test_split(X, y, test_size=0.3, random_state=0)\n",
        "# scaling the dataset\n",
        "scaler = MinMaxScaler()\n",
        "scaler.fit(X_train,y_train)\n",
        "X_train_norm = scaler.transform(X_train)\n",
        "X_test_norm = scaler.transform(X_test)"
      ]
    },
    {
      "cell_type": "code",
      "execution_count": null,
      "id": "4291945d",
      "metadata": {
        "id": "4291945d"
      },
      "outputs": [],
      "source": [
        "# implementing logistic regression model\n",
        "classifier = LogisticRegression()\n",
        "classifier.fit(X_train_norm,y_train)\n",
        "prediction=classifier.predict(X_test_norm)"
      ]
    },
    {
      "cell_type": "code",
      "execution_count": null,
      "id": "4388c3f5",
      "metadata": {
        "id": "4388c3f5",
        "outputId": "a6beb29c-8693-4ac9-94df-cb60954fa1e7"
      },
      "outputs": [
        {
          "name": "stdout",
          "output_type": "stream",
          "text": [
            "              precision    recall  f1-score   support\n",
            "\n",
            "           0       0.92      0.46      0.62        52\n",
            "           1       0.77      0.98      0.86        96\n",
            "\n",
            "    accuracy                           0.80       148\n",
            "   macro avg       0.85      0.72      0.74       148\n",
            "weighted avg       0.82      0.80      0.78       148\n",
            "\n"
          ]
        }
      ],
      "source": [
        "# importing classification tests\n",
        "from sklearn.metrics import confusion_matrix, accuracy_score,classification_report\n",
        "report=classification_report(y_test,prediction)\n",
        "print(report)\n"
      ]
    },
    {
      "cell_type": "code",
      "execution_count": null,
      "id": "0ed6e03d",
      "metadata": {
        "id": "0ed6e03d",
        "outputId": "92a06834-70bb-4451-c371-e6b5d34cbbb3"
      },
      "outputs": [
        {
          "data": {
            "image/png": "[encoded data removed]",
            "text/plain": [
              "<Figure size 576x432 with 2 Axes>"
            ]
          },
          "metadata": {
            "needs_background": "light"
          },
          "output_type": "display_data"
        }
      ],
      "source": [
        "ConfusionMatrix = confusion_matrix(y_test, prediction)\n",
        "plt.figure(figsize=(8,6))\n",
        "ax = sns.heatmap(ConfusionMatrix, annot=True, cmap='YlGnBu')\n"
      ]
    },
    {
      "cell_type": "code",
      "execution_count": null,
      "id": "ae51b00a",
      "metadata": {
        "id": "ae51b00a",
        "outputId": "6594f2f9-a9bb-49c3-86fb-635739d16bb8"
      },
      "outputs": [
        {
          "data": {
            "text/plain": [
              "0.7972972972972973"
            ]
          },
          "execution_count": 298,
          "metadata": {},
          "output_type": "execute_result"
        }
      ],
      "source": [
        "accuracy_score(y_test,prediction)"
      ]
    },
    {
      "cell_type": "code",
      "execution_count": null,
      "id": "5fbbcc42",
      "metadata": {
        "id": "5fbbcc42",
        "outputId": "466a8ffb-8b26-47b6-959d-37d7b738164e"
      },
      "outputs": [
        {
          "name": "stdout",
          "output_type": "stream",
          "text": [
            "(492, 17)\n",
            "(492,)\n"
          ]
        }
      ],
      "source": [
        "columns = loan.columns.tolist()\n",
        "# Filter the columns to remove data we do not want \n",
        "columns = [c for c in columns if c not in [\"Loan_Status\"]]\n",
        "# Store the variable we are predicting \n",
        "target = \"Loan_Status\"\n",
        "# Define a random state \n",
        "state = np.random.RandomState(42)\n",
        "X = loan[columns]\n",
        "Y = loan[target]\n",
        "# Print the shapes of X & Y\n",
        "print(X.shape)\n",
        "print(Y.shape)"
      ]
    },
    {
      "cell_type": "code",
      "execution_count": null,
      "id": "cad354fb",
      "metadata": {
        "id": "cad354fb",
        "outputId": "59599295-5868-4903-f343-06c3e7613435"
      },
      "outputs": [
        {
          "name": "stdout",
          "output_type": "stream",
          "text": [
            "Requirement already satisfied: imbalanced-learn in c:\\users\\gaya\\anaconda3\\lib\\site-packages (0.10.1)\n",
            "Requirement already satisfied: threadpoolctl>=2.0.0 in c:\\users\\gaya\\anaconda3\\lib\\site-packages (from imbalanced-learn) (2.2.0)\n",
            "Requirement already satisfied: scikit-learn>=1.0.2 in c:\\users\\gaya\\anaconda3\\lib\\site-packages (from imbalanced-learn) (1.0.2)\n",
            "Requirement already satisfied: scipy>=1.3.2 in c:\\users\\gaya\\anaconda3\\lib\\site-packages (from imbalanced-learn) (1.7.3)\n",
            "Requirement already satisfied: joblib>=1.1.1 in c:\\users\\gaya\\anaconda3\\lib\\site-packages (from imbalanced-learn) (1.2.0)\n",
            "Requirement already satisfied: numpy>=1.17.3 in c:\\users\\gaya\\anaconda3\\lib\\site-packages (from imbalanced-learn) (1.21.5)\n"
          ]
        }
      ],
      "source": [
        "!pip install imbalanced-learn\n",
        "from imblearn.over_sampling import RandomOverSampler\n",
        "import collections\n",
        "\n"
      ]
    },
    {
      "cell_type": "code",
      "execution_count": null,
      "id": "8917e56c",
      "metadata": {
        "id": "8917e56c",
        "outputId": "c13303e6-2558-4164-8d5b-18100853bfd2"
      },
      "outputs": [
        {
          "name": "stdout",
          "output_type": "stream",
          "text": [
            "Original dataset shape Counter({1: 338, 0: 154})\n",
            "Resampled dataset shape Counter({1: 338, 0: 169})\n"
          ]
        }
      ],
      "source": [
        "sampler= RandomOverSampler(sampling_strategy=0.5)\n",
        "X_train_res,Y_train_res = sampler.fit_resample(X, Y)\n",
        "X_train_res.shape,Y_train_res.shape\n",
        "print('Original dataset shape {}'.format(collections.Counter(Y)))\n",
        "print('Resampled dataset shape {}'.format(collections.Counter(Y_train_res)))"
      ]
    },
    {
      "cell_type": "code",
      "execution_count": null,
      "id": "f8258338",
      "metadata": {
        "id": "f8258338"
      },
      "outputs": [],
      "source": [
        "X_train_res=pd.get_dummies(X_train_res,drop_first=True)\n",
        "X_train, X_test, y_train, y_test = train_test_split(X_train_res,Y_train_res, test_size= 0.3,random_state=0)\n",
        "scaler.fit(X_train)\n",
        "X_scaled_res = scaler.transform(X_train)\n",
        "scaler.fit(X_test)\n",
        "X_test_res = scaler.transform(X_test)\n",
        "classifier.fit(X_scaled_res,y_train)\n",
        "prediction_res = classifier.predict(X_test_res)\n",
        "\n"
      ]
    },
    {
      "cell_type": "code",
      "execution_count": null,
      "id": "9b607d0e",
      "metadata": {
        "id": "9b607d0e",
        "outputId": "1cad9cfe-4d56-460c-edd6-e009b39ee34c"
      },
      "outputs": [
        {
          "name": "stdout",
          "output_type": "stream",
          "text": [
            "              precision    recall  f1-score   support\n",
            "\n",
            "           0       0.93      0.47      0.62        60\n",
            "           1       0.74      0.98      0.84        93\n",
            "\n",
            "    accuracy                           0.78       153\n",
            "   macro avg       0.84      0.72      0.73       153\n",
            "weighted avg       0.82      0.78      0.76       153\n",
            "\n"
          ]
        }
      ],
      "source": [
        "report=classification_report(y_test,prediction_res)\n",
        "print(report)"
      ]
    },
    {
      "cell_type": "code",
      "execution_count": null,
      "id": "42717bd7",
      "metadata": {
        "id": "42717bd7",
        "outputId": "79852984-d3ef-4200-df7f-7b159786abbd"
      },
      "outputs": [
        {
          "data": {
            "image/png": "[encoded data removed]",
            "text/plain": [
              "<Figure size 576x432 with 2 Axes>"
            ]
          },
          "metadata": {
            "needs_background": "light"
          },
          "output_type": "display_data"
        }
      ],
      "source": [
        "ConfusionMatrix = confusion_matrix(y_test, prediction_res)\n",
        "plt.figure(figsize=(8,6))\n",
        "ax = sns.heatmap(ConfusionMatrix, annot=True, cmap='YlGnBu')\n"
      ]
    },
    {
      "cell_type": "code",
      "execution_count": null,
      "id": "59b1f7ef",
      "metadata": {
        "id": "59b1f7ef"
      },
      "outputs": [],
      "source": []
    }
  ],
  "metadata": {
    "kernelspec": {
      "display_name": "Python 3 (ipykernel)",
      "language": "python",
      "name": "python3"
    },
    "language_info": {
      "codemirror_mode": {
        "name": "ipython",
        "version": 3
      },
      "file_extension": ".py",
      "mimetype": "text/x-python",
      "name": "python",
      "nbconvert_exporter": "python",
      "pygments_lexer": "ipython3",
      "version": "3.9.12"
    },
    "colab": {
      "provenance": [],
      "include_colab_link": true
    }
  },
  "nbformat": 4,
  "nbformat_minor": 5
}
